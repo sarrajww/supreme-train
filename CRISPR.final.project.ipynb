{
 "cells": [
  {
   "cell_type": "markdown",
   "id": "902505da-99e8-4f34-a32b-5d37709c8d99",
   "metadata": {},
   "source": [
    "# Introduction\n",
    "Using a transformer-based predtrained model to predict CRISPR (clustered regularly interspaced short palindromic repeats) arrays from metagenomic data. The data come from CRISPRCasdb and our own metagenomic assemblies."
   ]
  },
  {
   "cell_type": "code",
   "execution_count": 1,
   "id": "57a71d69-3bd0-4c23-a061-be2b782dc122",
   "metadata": {
    "tags": []
   },
   "outputs": [],
   "source": [
    "# Imports\n",
    "from transformers import AutoTokenizer, TrainingArguments, Trainer, AutoModelForSequenceClassification\n",
    "import torch\n",
    "from sklearn.metrics import matthews_corrcoef, f1_score\n",
    "from sklearn.model_selection import train_test_split\n",
    "import matplotlib.pyplot as plt\n",
    "import numpy as np"
   ]
  },
  {
   "cell_type": "markdown",
   "id": "1d59cfd0-4c6d-45e8-a212-73e01ecead95",
   "metadata": {},
   "source": [
    "# Data pre-processing\n",
    "The dataset is consist of CRISPR and non-CRISPR sequences and labels ('0' and '1') and no need for normalization or feature engneering."
   ]
  },
  {
   "cell_type": "code",
   "execution_count": 2,
   "id": "ee6d6b61-d046-4ae9-bfa9-b1e998deb4a6",
   "metadata": {
    "tags": []
   },
   "outputs": [],
   "source": [
    "from datasets import load_dataset"
   ]
  },
  {
   "cell_type": "code",
   "execution_count": 3,
   "id": "71c5a9f9-0cd1-4e0b-bcd6-9e8a56ff92b2",
   "metadata": {
    "tags": []
   },
   "outputs": [],
   "source": [
    "train_dataset = load_dataset('csv', data_files='00.test/crispr.5k.train_valid.csv',split=\"train\")"
   ]
  },
  {
   "cell_type": "code",
   "execution_count": 5,
   "id": "6f490e00-a0f3-421d-ac78-9545ec332dd8",
   "metadata": {
    "tags": []
   },
   "outputs": [
    {
     "data": {
      "text/plain": [
       "Dataset({\n",
       "    features: ['sequences', 'labels'],\n",
       "    num_rows: 10660\n",
       "})"
      ]
     },
     "execution_count": 5,
     "metadata": {},
     "output_type": "execute_result"
    }
   ],
   "source": [
    "train_dataset"
   ]
  },
  {
   "cell_type": "code",
   "execution_count": 6,
   "id": "d1335ffc-c77e-471f-aa46-99d2c4b1c27a",
   "metadata": {
    "tags": []
   },
   "outputs": [
    {
     "data": {
      "text/plain": [
       "[0, 0, 0, 0, 0, 1, 0, 1, 1, 1]"
      ]
     },
     "execution_count": 6,
     "metadata": {},
     "output_type": "execute_result"
    }
   ],
   "source": [
    "train_dataset['labels'][:10]"
   ]
  },
  {
   "cell_type": "code",
   "execution_count": 7,
   "id": "ea219c32-2a31-4d72-b989-49cacba703c1",
   "metadata": {
    "tags": []
   },
   "outputs": [],
   "source": [
    "test_dataset = load_dataset('csv', data_files=\"00.test/crispr.1k.test.csv\",split=\"train\")"
   ]
  },
  {
   "cell_type": "code",
   "execution_count": 8,
   "id": "a956e2c6-d680-44ae-9680-db73228f5e81",
   "metadata": {
    "tags": []
   },
   "outputs": [
    {
     "data": {
      "text/plain": [
       "Dataset({\n",
       "    features: ['sequences', 'labels'],\n",
       "    num_rows: 1999\n",
       "})"
      ]
     },
     "execution_count": 8,
     "metadata": {},
     "output_type": "execute_result"
    }
   ],
   "source": [
    "test_dataset"
   ]
  },
  {
   "cell_type": "code",
   "execution_count": 9,
   "id": "8b800a1d-3769-4b6c-9777-79f949342f7a",
   "metadata": {
    "tags": []
   },
   "outputs": [
    {
     "data": {
      "text/plain": [
       "['ATCGCGCTCCTCGCCTTCCTGCTTGGCGTCGTGCTCGCCTATCAGGGTGCGGACCAGCTCAGGCGGTTTGGCGCCGAGCTTCTGACCGTCAATCTCGTGGCGACCGCAATGTTGCGCGAGGTGGGCTGCCTGATCACAGCCATCGTCGTTGCCGGCCGCTCGGGCTCGGCCTTCACCGCGCAGATCGGTACGATGAAGCTCAATCAGGAAGTCGACGCGATGCAGACCATCGGCCTCAACACGGTCGAAGTTCTCGTGCTGCCGCGCCTCCTCGGGCTCATGGTCGCGCTACCGTTGCTGACGTTCGTTGCCAACATCATGGGCCTGCTCGGCGGCGCGATGATGTGCAACTTCCACTTGGGCATCAACTTCCCCAGCTTTGCGCGCCAGCTCTACACGGTGTTGACGATCAACAGCTGGACCTTCTGGCTCGGCTTCATCAAAGCGCCCGTGTTCGCCGCCATCATCGTTATTGTCGGTTGCTTCGAACGGCTGCGCGTCGAAGGCAATGCTGGCAGTGTCGGCAGCCAGACTACGCGCTCCGTCGTGGA',\n",
       " 'TATTGGGCTGCCTGTGCGGCAGTGAACGTTATACCCCGCGCAGGGAGTGAAGCGTTGACTTTCTAAGCTGCCTGTGCGGCAGTGAACTTAAGTTCTTTTTGTCAGCATCTTTAATAAATTTTCTAAGCTGCCTGTGCGGCAGTGAACCTGAAATACAAATAAAATAAATCGTCGAACATTTTCTAAGCTGCCTGTGCGGCAGTGAAC']"
      ]
     },
     "execution_count": 9,
     "metadata": {},
     "output_type": "execute_result"
    }
   ],
   "source": [
    "test_dataset['sequences'][:2]"
   ]
  },
  {
   "cell_type": "code",
   "execution_count": 10,
   "id": "eaeb76b8-bb40-4e0e-a28f-1f616c505a01",
   "metadata": {
    "tags": []
   },
   "outputs": [
    {
     "data": {
      "text/plain": [
       "[0, 1]"
      ]
     },
     "execution_count": 10,
     "metadata": {},
     "output_type": "execute_result"
    }
   ],
   "source": [
    "test_dataset['labels'][:2]"
   ]
  },
  {
   "cell_type": "code",
   "execution_count": 11,
   "id": "043966f8-4217-4d76-96ad-025a2f4f4b38",
   "metadata": {
    "tags": []
   },
   "outputs": [],
   "source": [
    "# Get training data\n",
    "train_sequences = train_dataset['sequences']\n",
    "train_labels = train_dataset['labels']"
   ]
  },
  {
   "cell_type": "code",
   "execution_count": 12,
   "id": "c7a472bc-8912-412e-a145-c42ecf8f1759",
   "metadata": {
    "tags": []
   },
   "outputs": [],
   "source": [
    "# Split the dataset into a training and a validation dataset\n",
    "train_sequences, validation_sequences, train_labels, validation_labels = train_test_split(train_sequences,\n",
    "                                                                              train_labels, test_size=0.3, random_state=42)\n",
    "\n",
    "# Get test data\n",
    "test_sequences = test_dataset['sequences']\n",
    "test_labels= test_dataset['labels']"
   ]
  },
  {
   "cell_type": "code",
   "execution_count": 13,
   "id": "4baf6842-8855-4be2-b67c-b2682904b64f",
   "metadata": {
    "tags": []
   },
   "outputs": [
    {
     "data": {
      "text/plain": [
       "['AGCAAATTCTTCACACCAACGCCCAGGAAGCGCTCACGCTTGAAGTCAGCTTCCTGCGTTTGAAGCTCTAACATGGTCGCGACGCGCAATCGCGAGCCGATCTTCGCTGCGCTGTTTGGCGTCATTGTTGCGCTTGTTCTCACCAAAATGGGTAACCCGGTCATCTTCAAGAACATGGAGGTGGCGCCGACGAATCTTGCCGAAGCGGTTTTCGCGACGTGGCCATCTAATTGGTACATCCACGCGTTTGCGATGTCGGCTTTACTTTTGATCGTGGCGTTGATCGGGCAGCGGAACCTTTGGAACCGCACAAAACAAATACCGCGGATCATTACGTTTTCGCTTTGTGGATGGTTCGTTTGGCTTTCGCTGTCGTATTTCAAAACGGTCAATCCGGAATTGACTCGGCTTGCCTATCCTCACCTCTGCGTGTCGGCGGTTTTGCTCTTTGTGGGCTGCGCTCTTCTGTTCGAA',\n",
       " 'ATCGCGACGATTGTCTGCTTGCTGACGGGCGAGCCGCGCCAGGGCCGTATCGGCATTGGTTGGCGAACGATGGTCAAGGCCCGCGACACGGTGACCCTCGCGGCGCAGCCTTCGTTGACAGTGAGCGATCTCGACCGCGCCGTCGACGAAGTGCAGGCGACGACGGGGCCCGGCTCAGTCGGCGCCCGCCACGCCGTGCTTTCGTCTGTGCTGGCGCGTGCGACGCCGGCGGA']"
      ]
     },
     "execution_count": 13,
     "metadata": {},
     "output_type": "execute_result"
    }
   ],
   "source": [
    "train_sequences[:2]"
   ]
  },
  {
   "cell_type": "code",
   "execution_count": 14,
   "id": "d1551455-6981-4be5-bb9f-0ba2544c2cf9",
   "metadata": {
    "tags": []
   },
   "outputs": [
    {
     "data": {
      "text/plain": [
       "3198"
      ]
     },
     "execution_count": 14,
     "metadata": {},
     "output_type": "execute_result"
    }
   ],
   "source": [
    "len(validation_sequences)"
   ]
  },
  {
   "cell_type": "code",
   "execution_count": 15,
   "id": "61e7483c-0f1b-4f40-a67a-7e549ae869a6",
   "metadata": {
    "tags": []
   },
   "outputs": [
    {
     "data": {
      "text/plain": [
       "7462"
      ]
     },
     "execution_count": 15,
     "metadata": {},
     "output_type": "execute_result"
    }
   ],
   "source": [
    "len(train_sequences)"
   ]
  },
  {
   "cell_type": "code",
   "execution_count": 16,
   "id": "a878fede-874c-48f9-a242-3fc2f5dbd0d7",
   "metadata": {},
   "outputs": [],
   "source": [
    "# Define the working device\n",
    "device = torch.device(\"cuda\")"
   ]
  },
  {
   "cell_type": "markdown",
   "id": "909bf70c-adb2-4250-9306-0b21a0865077",
   "metadata": {},
   "source": [
    "# Model set up"
   ]
  },
  {
   "cell_type": "code",
   "execution_count": 17,
   "id": "a3d9e2ec-4052-47e0-8bd5-f91f2c8c254f",
   "metadata": {},
   "outputs": [
    {
     "name": "stderr",
     "output_type": "stream",
     "text": [
      "Some weights of the model checkpoint at InstaDeepAI/nucleotide-transformer-v2-500m-multi-species were not used when initializing EsmForSequenceClassification: ['lm_head.bias', 'lm_head.decoder.weight', 'lm_head.dense.bias', 'lm_head.dense.weight', 'lm_head.layer_norm.bias', 'lm_head.layer_norm.weight']\n",
      "- This IS expected if you are initializing EsmForSequenceClassification from the checkpoint of a model trained on another task or with another architecture (e.g. initializing a BertForSequenceClassification model from a BertForPreTraining model).\n",
      "- This IS NOT expected if you are initializing EsmForSequenceClassification from the checkpoint of a model that you expect to be exactly identical (initializing a BertForSequenceClassification model from a BertForSequenceClassification model).\n",
      "Some weights of EsmForSequenceClassification were not initialized from the model checkpoint at InstaDeepAI/nucleotide-transformer-v2-500m-multi-species and are newly initialized: ['classifier.dense.bias', 'classifier.dense.weight', 'classifier.out_proj.bias', 'classifier.out_proj.weight']\n",
      "You should probably TRAIN this model on a down-stream task to be able to use it for predictions and inference.\n"
     ]
    }
   ],
   "source": [
    "num_labels = 2\n",
    "# Load the model\n",
    "model = AutoModelForSequenceClassification.from_pretrained(\"InstaDeepAI/nucleotide-transformer-v2-500m-multi-species\", trust_remote_code=True, num_labels=num_labels)\n",
    "model = model.to(device)"
   ]
  },
  {
   "cell_type": "code",
   "execution_count": 18,
   "id": "5715da59-2cbd-47f9-af46-018bbc33fb0c",
   "metadata": {
    "tags": []
   },
   "outputs": [],
   "source": [
    "# Load the tokenizer\n",
    "tokenizer = AutoTokenizer.from_pretrained(\"InstaDeepAI/nucleotide-transformer-v2-500m-multi-species\")"
   ]
  },
  {
   "cell_type": "code",
   "execution_count": 19,
   "id": "7284b2ff-c0e2-4d0d-ac59-bb5de3f59ec9",
   "metadata": {
    "tags": []
   },
   "outputs": [],
   "source": [
    "from datasets import Dataset"
   ]
  },
  {
   "cell_type": "code",
   "execution_count": 20,
   "id": "d820f688-1523-467c-92e2-e49b47826641",
   "metadata": {
    "tags": []
   },
   "outputs": [],
   "source": [
    "ds_train = Dataset.from_dict({\"data\": train_sequences,'label':train_labels})\n",
    "ds_validation = Dataset.from_dict({\"data\": validation_sequences,'label':validation_labels})\n",
    "ds_test = Dataset.from_dict({\"data\": test_sequences,'label':test_labels})"
   ]
  },
  {
   "cell_type": "code",
   "execution_count": 21,
   "id": "d2cbab27-b20a-405d-a1b6-d4a0831db6bc",
   "metadata": {
    "tags": []
   },
   "outputs": [
    {
     "data": {
      "text/plain": [
       "Dataset({\n",
       "    features: ['data', 'label'],\n",
       "    num_rows: 7462\n",
       "})"
      ]
     },
     "execution_count": 21,
     "metadata": {},
     "output_type": "execute_result"
    }
   ],
   "source": [
    "ds_train"
   ]
  },
  {
   "cell_type": "code",
   "execution_count": 22,
   "id": "39cadb2b-40b1-4e7e-b0d7-5c28d20ce751",
   "metadata": {
    "tags": []
   },
   "outputs": [
    {
     "data": {
      "text/plain": [
       "Dataset({\n",
       "    features: ['data', 'label'],\n",
       "    num_rows: 3198\n",
       "})"
      ]
     },
     "execution_count": 22,
     "metadata": {},
     "output_type": "execute_result"
    }
   ],
   "source": [
    "ds_validation"
   ]
  },
  {
   "cell_type": "code",
   "execution_count": 23,
   "id": "dc33de1e-cffc-448e-a8c0-76e9abfc40f8",
   "metadata": {
    "tags": []
   },
   "outputs": [],
   "source": [
    "def tokenize_function(examples):\n",
    "    outputs = tokenizer(examples[\"data\"],max_length=1000, truncation=True)\n",
    "    return outputs"
   ]
  },
  {
   "cell_type": "code",
   "execution_count": 24,
   "id": "1582756c-9462-4245-828e-e8557d878ee4",
   "metadata": {},
   "outputs": [
    {
     "data": {
      "application/vnd.jupyter.widget-view+json": {
       "model_id": "177f3b5b566f466fab6aac0031ca11b6",
       "version_major": 2,
       "version_minor": 0
      },
      "text/plain": [
       "Map:   0%|          | 0/7462 [00:00<?, ? examples/s]"
      ]
     },
     "metadata": {},
     "output_type": "display_data"
    },
    {
     "data": {
      "application/vnd.jupyter.widget-view+json": {
       "model_id": "7ebcb112e28f4f89b7335ecdf612e22e",
       "version_major": 2,
       "version_minor": 0
      },
      "text/plain": [
       "Map:   0%|          | 0/3198 [00:00<?, ? examples/s]"
      ]
     },
     "metadata": {},
     "output_type": "display_data"
    },
    {
     "data": {
      "application/vnd.jupyter.widget-view+json": {
       "model_id": "e4c24c01d9aa4414b4cdadbf67377a5e",
       "version_major": 2,
       "version_minor": 0
      },
      "text/plain": [
       "Map:   0%|          | 0/1999 [00:00<?, ? examples/s]"
      ]
     },
     "metadata": {},
     "output_type": "display_data"
    }
   ],
   "source": [
    "# Creating tokenized promoter dataset #map()reshape and remove data\n",
    "tokenized_datasets_train = ds_train.map(\n",
    "    tokenize_function,\n",
    "    batched=True,\n",
    "    remove_columns=[\"data\"],\n",
    ")\n",
    "tokenized_datasets_validation = ds_validation.map(\n",
    "    tokenize_function,\n",
    "    batched=True,\n",
    "    remove_columns=[\"data\"],\n",
    ")\n",
    "tokenized_datasets_test = ds_test.map(\n",
    "    tokenize_function,\n",
    "    batched=True,\n",
    "    remove_columns=[\"data\"],\n",
    ")"
   ]
  },
  {
   "cell_type": "code",
   "execution_count": 25,
   "id": "93d5e9d1-268a-4d41-aab9-86e21d74d326",
   "metadata": {
    "tags": []
   },
   "outputs": [
    {
     "data": {
      "text/plain": [
       "[0, 1, 0, 0, 1, 0, 1, 1, 0, 0]"
      ]
     },
     "execution_count": 25,
     "metadata": {},
     "output_type": "execute_result"
    }
   ],
   "source": [
    "tokenized_datasets_validation['label'][:10]"
   ]
  },
  {
   "cell_type": "code",
   "execution_count": 31,
   "id": "d450c16e-e6fe-42ad-b723-71f68f35fe08",
   "metadata": {
    "tags": []
   },
   "outputs": [
    {
     "data": {
      "text/plain": [
       "Dataset({\n",
       "    features: ['label', 'input_ids', 'attention_mask'],\n",
       "    num_rows: 7462\n",
       "})"
      ]
     },
     "execution_count": 31,
     "metadata": {},
     "output_type": "execute_result"
    }
   ],
   "source": [
    "tokenized_datasets_train"
   ]
  },
  {
   "cell_type": "markdown",
   "id": "5f5c273a-3650-477c-bb98-8b75a3faa218",
   "metadata": {},
   "source": [
    "# Hyperparameter tuning"
   ]
  },
  {
   "cell_type": "code",
   "execution_count": 33,
   "id": "8ebb0477-fe44-4f2f-b21c-5f36623876c6",
   "metadata": {
    "tags": []
   },
   "outputs": [],
   "source": [
    "# Define the metric for the evaluation using the f1 score\n",
    "def compute_metrics_f1_score(eval_pred):\n",
    "    \"\"\"Computes F1 score for binary classification\"\"\"\n",
    "    predictions = np.argmax(eval_pred.predictions, axis=-1)\n",
    "    references = eval_pred.label_ids\n",
    "    r={'f1_score': f1_score(references, predictions)}\n",
    "    return r"
   ]
  },
  {
   "cell_type": "code",
   "execution_count": 34,
   "id": "0c98f8dd-42c0-4bfc-80c9-c91a159313f0",
   "metadata": {
    "tags": []
   },
   "outputs": [],
   "source": [
    "batch_size = 8\n",
    "model_name='nucleotide-transformer'\n",
    "args_promoter = TrainingArguments(\n",
    "    f\"{model_name}-finetuned-NucleotideTransformer\",\n",
    "    remove_unused_columns=False,\n",
    "    evaluation_strategy=\"steps\",\n",
    "    save_strategy=\"steps\",\n",
    "    learning_rate=1e-6,\n",
    "    per_device_train_batch_size=batch_size,\n",
    "    gradient_accumulation_steps= 1,\n",
    "    per_device_eval_batch_size= 64,\n",
    "    num_train_epochs= 2,\n",
    "    logging_steps= 100,\n",
    "    load_best_model_at_end=True,  # Keep the best model according to the evaluation\n",
    "    metric_for_best_model=\"f1_score\",\n",
    "    dataloader_drop_last=True,\n",
    "    max_steps= 1000\n",
    ")"
   ]
  },
  {
   "cell_type": "code",
   "execution_count": 35,
   "id": "60fa7099-4e93-490c-9f9f-bafb81ab172c",
   "metadata": {
    "tags": []
   },
   "outputs": [
    {
     "name": "stderr",
     "output_type": "stream",
     "text": [
      "Detected kernel version 4.18.0, which is below the recommended minimum of 5.5.0; this can cause the process to hang. It is recommended to upgrade the kernel to the minimum version or higher.\n"
     ]
    }
   ],
   "source": [
    "trainer = Trainer(\n",
    "    model.to(device),\n",
    "    args_promoter,\n",
    "    train_dataset= tokenized_datasets_train,\n",
    "    eval_dataset= tokenized_datasets_validation,\n",
    "    tokenizer=tokenizer,\n",
    "    compute_metrics=compute_metrics_f1_score,\n",
    ")"
   ]
  },
  {
   "cell_type": "markdown",
   "id": "8becfa1e-7b41-40c2-b6b8-5ea7c7003cd1",
   "metadata": {},
   "source": [
    "# Results"
   ]
  },
  {
   "cell_type": "code",
   "execution_count": 36,
   "id": "1f63abf1-42e9-41a5-93a7-73a1110c8148",
   "metadata": {
    "tags": []
   },
   "outputs": [
    {
     "data": {
      "text/html": [
       "\n",
       "    <div>\n",
       "      \n",
       "      <progress value='1000' max='1000' style='width:300px; height:20px; vertical-align: middle;'></progress>\n",
       "      [1000/1000 1:00:36, Epoch 1/2]\n",
       "    </div>\n",
       "    <table border=\"1\" class=\"dataframe\">\n",
       "  <thead>\n",
       " <tr style=\"text-align: left;\">\n",
       "      <th>Step</th>\n",
       "      <th>Training Loss</th>\n",
       "      <th>Validation Loss</th>\n",
       "      <th>F1 Score</th>\n",
       "    </tr>\n",
       "  </thead>\n",
       "  <tbody>\n",
       "    <tr>\n",
       "      <td>100</td>\n",
       "      <td>0.568200</td>\n",
       "      <td>0.439688</td>\n",
       "      <td>0.950621</td>\n",
       "    </tr>\n",
       "    <tr>\n",
       "      <td>200</td>\n",
       "      <td>0.311100</td>\n",
       "      <td>0.203191</td>\n",
       "      <td>0.974051</td>\n",
       "    </tr>\n",
       "    <tr>\n",
       "      <td>300</td>\n",
       "      <td>0.145700</td>\n",
       "      <td>0.091784</td>\n",
       "      <td>0.987914</td>\n",
       "    </tr>\n",
       "    <tr>\n",
       "      <td>400</td>\n",
       "      <td>0.063200</td>\n",
       "      <td>0.047770</td>\n",
       "      <td>0.991930</td>\n",
       "    </tr>\n",
       "    <tr>\n",
       "      <td>500</td>\n",
       "      <td>0.045000</td>\n",
       "      <td>0.031799</td>\n",
       "      <td>0.994098</td>\n",
       "    </tr>\n",
       "    <tr>\n",
       "      <td>600</td>\n",
       "      <td>0.020900</td>\n",
       "      <td>0.023719</td>\n",
       "      <td>0.995949</td>\n",
       "    </tr>\n",
       "    <tr>\n",
       "      <td>700</td>\n",
       "      <td>0.019100</td>\n",
       "      <td>0.022078</td>\n",
       "      <td>0.995031</td>\n",
       "    </tr>\n",
       "    <tr>\n",
       "      <td>800</td>\n",
       "      <td>0.028000</td>\n",
       "      <td>0.017278</td>\n",
       "      <td>0.997509</td>\n",
       "    </tr>\n",
       "    <tr>\n",
       "      <td>900</td>\n",
       "      <td>0.021900</td>\n",
       "      <td>0.016069</td>\n",
       "      <td>0.997197</td>\n",
       "    </tr>\n",
       "    <tr>\n",
       "      <td>1000</td>\n",
       "      <td>0.014600</td>\n",
       "      <td>0.015761</td>\n",
       "      <td>0.997197</td>\n",
       "    </tr>\n",
       "  </tbody>\n",
       "</table><p>"
      ],
      "text/plain": [
       "<IPython.core.display.HTML object>"
      ]
     },
     "metadata": {},
     "output_type": "display_data"
    }
   ],
   "source": [
    "train_results = trainer.train()"
   ]
  },
  {
   "cell_type": "code",
   "execution_count": 37,
   "id": "91f899fe-4add-4a6b-a1cb-124ade4cb813",
   "metadata": {
    "tags": []
   },
   "outputs": [],
   "source": [
    "curve_evaluation_f1_score =[[a['step'],a['eval_f1_score']] for a in trainer.state.log_history if 'eval_f1_score' in a.keys()]\n",
    "eval_f1_score = [c[1] for c in curve_evaluation_f1_score]\n",
    "steps = [c[0] for c in curve_evaluation_f1_score]"
   ]
  },
  {
   "cell_type": "code",
   "execution_count": 38,
   "id": "6658cd81-18d0-439f-8559-66eed9765d66",
   "metadata": {
    "tags": []
   },
   "outputs": [
    {
     "data": {
      "image/png": "[encoded data removed]",
      "text/plain": [
       "<Figure size 640x480 with 1 Axes>"
      ]
     },
     "metadata": {},
     "output_type": "display_data"
    }
   ],
   "source": [
    "plt.plot(steps, eval_f1_score, 'b', label='Validation F1 score')\n",
    "plt.title('Validation F1 score for CRISPR prediction')\n",
    "plt.xlabel('Number of training steps performed')\n",
    "plt.ylabel('Validation F1 score')\n",
    "plt.legend()\n",
    "plt.show()"
   ]
  },
  {
   "cell_type": "code",
   "execution_count": 39,
   "id": "4d37eb44-ebeb-40ef-a09c-f8ea32128bb2",
   "metadata": {
    "tags": []
   },
   "outputs": [
    {
     "data": {
      "text/html": [],
      "text/plain": [
       "<IPython.core.display.HTML object>"
      ]
     },
     "metadata": {},
     "output_type": "display_data"
    },
    {
     "name": "stdout",
     "output_type": "stream",
     "text": [
      "F1 score on the test dataset: 0.9964806435394671\n"
     ]
    }
   ],
   "source": [
    "# Compute the F1 score on the test dataset :\n",
    "print(f\"F1 score on the test dataset: {trainer.predict(tokenized_datasets_test).metrics['test_f1_score']}\")"
   ]
  },
  {
   "cell_type": "code",
   "execution_count": 30,
   "id": "740c8c09-b295-4112-8624-1a5f1e9f6ac9",
   "metadata": {
    "tags": []
   },
   "outputs": [],
   "source": [
    "#del trainer"
   ]
  },
  {
   "cell_type": "code",
   "execution_count": 40,
   "id": "9bb4310a-9903-4ef3-bca2-68b7cf5d998c",
   "metadata": {
    "tags": []
   },
   "outputs": [
    {
     "data": {
      "text/html": [
       "<div>\n",
       "<style scoped>\n",
       "    .dataframe tbody tr th:only-of-type {\n",
       "        vertical-align: middle;\n",
       "    }\n",
       "\n",
       "    .dataframe tbody tr th {\n",
       "        vertical-align: top;\n",
       "    }\n",
       "\n",
       "    .dataframe thead th {\n",
       "        text-align: right;\n",
       "    }\n",
       "</style>\n",
       "<table border=\"1\" class=\"dataframe\">\n",
       "  <thead>\n",
       "    <tr style=\"text-align: right;\">\n",
       "      <th></th>\n",
       "      <th>loss</th>\n",
       "      <th>grad_norm</th>\n",
       "      <th>learning_rate</th>\n",
       "      <th>epoch</th>\n",
       "      <th>step</th>\n",
       "      <th>eval_loss</th>\n",
       "      <th>eval_f1_score</th>\n",
       "      <th>eval_runtime</th>\n",
       "      <th>eval_samples_per_second</th>\n",
       "      <th>eval_steps_per_second</th>\n",
       "      <th>train_runtime</th>\n",
       "      <th>train_samples_per_second</th>\n",
       "      <th>train_steps_per_second</th>\n",
       "      <th>total_flos</th>\n",
       "      <th>train_loss</th>\n",
       "    </tr>\n",
       "  </thead>\n",
       "  <tbody>\n",
       "    <tr>\n",
       "      <th>0</th>\n",
       "      <td>0.5682</td>\n",
       "      <td>3.946456</td>\n",
       "      <td>9.000000e-07</td>\n",
       "      <td>0.11</td>\n",
       "      <td>100</td>\n",
       "      <td>NaN</td>\n",
       "      <td>NaN</td>\n",
       "      <td>NaN</td>\n",
       "      <td>NaN</td>\n",
       "      <td>NaN</td>\n",
       "      <td>NaN</td>\n",
       "      <td>NaN</td>\n",
       "      <td>NaN</td>\n",
       "      <td>NaN</td>\n",
       "      <td>NaN</td>\n",
       "    </tr>\n",
       "    <tr>\n",
       "      <th>1</th>\n",
       "      <td>NaN</td>\n",
       "      <td>NaN</td>\n",
       "      <td>NaN</td>\n",
       "      <td>0.11</td>\n",
       "      <td>100</td>\n",
       "      <td>0.439688</td>\n",
       "      <td>0.950621</td>\n",
       "      <td>255.1459</td>\n",
       "      <td>12.534</td>\n",
       "      <td>0.196</td>\n",
       "      <td>NaN</td>\n",
       "      <td>NaN</td>\n",
       "      <td>NaN</td>\n",
       "      <td>NaN</td>\n",
       "      <td>NaN</td>\n",
       "    </tr>\n",
       "    <tr>\n",
       "      <th>2</th>\n",
       "      <td>0.3111</td>\n",
       "      <td>3.889084</td>\n",
       "      <td>8.000000e-07</td>\n",
       "      <td>0.21</td>\n",
       "      <td>200</td>\n",
       "      <td>NaN</td>\n",
       "      <td>NaN</td>\n",
       "      <td>NaN</td>\n",
       "      <td>NaN</td>\n",
       "      <td>NaN</td>\n",
       "      <td>NaN</td>\n",
       "      <td>NaN</td>\n",
       "      <td>NaN</td>\n",
       "      <td>NaN</td>\n",
       "      <td>NaN</td>\n",
       "    </tr>\n",
       "    <tr>\n",
       "      <th>3</th>\n",
       "      <td>NaN</td>\n",
       "      <td>NaN</td>\n",
       "      <td>NaN</td>\n",
       "      <td>0.21</td>\n",
       "      <td>200</td>\n",
       "      <td>0.203191</td>\n",
       "      <td>0.974051</td>\n",
       "      <td>259.0427</td>\n",
       "      <td>12.345</td>\n",
       "      <td>0.193</td>\n",
       "      <td>NaN</td>\n",
       "      <td>NaN</td>\n",
       "      <td>NaN</td>\n",
       "      <td>NaN</td>\n",
       "      <td>NaN</td>\n",
       "    </tr>\n",
       "    <tr>\n",
       "      <th>4</th>\n",
       "      <td>0.1457</td>\n",
       "      <td>6.986619</td>\n",
       "      <td>7.000000e-07</td>\n",
       "      <td>0.32</td>\n",
       "      <td>300</td>\n",
       "      <td>NaN</td>\n",
       "      <td>NaN</td>\n",
       "      <td>NaN</td>\n",
       "      <td>NaN</td>\n",
       "      <td>NaN</td>\n",
       "      <td>NaN</td>\n",
       "      <td>NaN</td>\n",
       "      <td>NaN</td>\n",
       "      <td>NaN</td>\n",
       "      <td>NaN</td>\n",
       "    </tr>\n",
       "    <tr>\n",
       "      <th>5</th>\n",
       "      <td>NaN</td>\n",
       "      <td>NaN</td>\n",
       "      <td>NaN</td>\n",
       "      <td>0.32</td>\n",
       "      <td>300</td>\n",
       "      <td>0.091784</td>\n",
       "      <td>0.987914</td>\n",
       "      <td>254.5479</td>\n",
       "      <td>12.563</td>\n",
       "      <td>0.196</td>\n",
       "      <td>NaN</td>\n",
       "      <td>NaN</td>\n",
       "      <td>NaN</td>\n",
       "      <td>NaN</td>\n",
       "      <td>NaN</td>\n",
       "    </tr>\n",
       "    <tr>\n",
       "      <th>6</th>\n",
       "      <td>0.0632</td>\n",
       "      <td>0.435500</td>\n",
       "      <td>6.000000e-07</td>\n",
       "      <td>0.43</td>\n",
       "      <td>400</td>\n",
       "      <td>NaN</td>\n",
       "      <td>NaN</td>\n",
       "      <td>NaN</td>\n",
       "      <td>NaN</td>\n",
       "      <td>NaN</td>\n",
       "      <td>NaN</td>\n",
       "      <td>NaN</td>\n",
       "      <td>NaN</td>\n",
       "      <td>NaN</td>\n",
       "      <td>NaN</td>\n",
       "    </tr>\n",
       "    <tr>\n",
       "      <th>7</th>\n",
       "      <td>NaN</td>\n",
       "      <td>NaN</td>\n",
       "      <td>NaN</td>\n",
       "      <td>0.43</td>\n",
       "      <td>400</td>\n",
       "      <td>0.047770</td>\n",
       "      <td>0.991930</td>\n",
       "      <td>241.6935</td>\n",
       "      <td>13.232</td>\n",
       "      <td>0.207</td>\n",
       "      <td>NaN</td>\n",
       "      <td>NaN</td>\n",
       "      <td>NaN</td>\n",
       "      <td>NaN</td>\n",
       "      <td>NaN</td>\n",
       "    </tr>\n",
       "    <tr>\n",
       "      <th>8</th>\n",
       "      <td>0.0450</td>\n",
       "      <td>18.512058</td>\n",
       "      <td>5.000000e-07</td>\n",
       "      <td>0.54</td>\n",
       "      <td>500</td>\n",
       "      <td>NaN</td>\n",
       "      <td>NaN</td>\n",
       "      <td>NaN</td>\n",
       "      <td>NaN</td>\n",
       "      <td>NaN</td>\n",
       "      <td>NaN</td>\n",
       "      <td>NaN</td>\n",
       "      <td>NaN</td>\n",
       "      <td>NaN</td>\n",
       "      <td>NaN</td>\n",
       "    </tr>\n",
       "    <tr>\n",
       "      <th>9</th>\n",
       "      <td>NaN</td>\n",
       "      <td>NaN</td>\n",
       "      <td>NaN</td>\n",
       "      <td>0.54</td>\n",
       "      <td>500</td>\n",
       "      <td>0.031799</td>\n",
       "      <td>0.994098</td>\n",
       "      <td>238.8661</td>\n",
       "      <td>13.388</td>\n",
       "      <td>0.209</td>\n",
       "      <td>NaN</td>\n",
       "      <td>NaN</td>\n",
       "      <td>NaN</td>\n",
       "      <td>NaN</td>\n",
       "      <td>NaN</td>\n",
       "    </tr>\n",
       "    <tr>\n",
       "      <th>10</th>\n",
       "      <td>0.0209</td>\n",
       "      <td>0.951029</td>\n",
       "      <td>4.000000e-07</td>\n",
       "      <td>0.64</td>\n",
       "      <td>600</td>\n",
       "      <td>NaN</td>\n",
       "      <td>NaN</td>\n",
       "      <td>NaN</td>\n",
       "      <td>NaN</td>\n",
       "      <td>NaN</td>\n",
       "      <td>NaN</td>\n",
       "      <td>NaN</td>\n",
       "      <td>NaN</td>\n",
       "      <td>NaN</td>\n",
       "      <td>NaN</td>\n",
       "    </tr>\n",
       "    <tr>\n",
       "      <th>11</th>\n",
       "      <td>NaN</td>\n",
       "      <td>NaN</td>\n",
       "      <td>NaN</td>\n",
       "      <td>0.64</td>\n",
       "      <td>600</td>\n",
       "      <td>0.023719</td>\n",
       "      <td>0.995949</td>\n",
       "      <td>248.9386</td>\n",
       "      <td>12.847</td>\n",
       "      <td>0.201</td>\n",
       "      <td>NaN</td>\n",
       "      <td>NaN</td>\n",
       "      <td>NaN</td>\n",
       "      <td>NaN</td>\n",
       "      <td>NaN</td>\n",
       "    </tr>\n",
       "    <tr>\n",
       "      <th>12</th>\n",
       "      <td>0.0191</td>\n",
       "      <td>0.159969</td>\n",
       "      <td>3.000000e-07</td>\n",
       "      <td>0.75</td>\n",
       "      <td>700</td>\n",
       "      <td>NaN</td>\n",
       "      <td>NaN</td>\n",
       "      <td>NaN</td>\n",
       "      <td>NaN</td>\n",
       "      <td>NaN</td>\n",
       "      <td>NaN</td>\n",
       "      <td>NaN</td>\n",
       "      <td>NaN</td>\n",
       "      <td>NaN</td>\n",
       "      <td>NaN</td>\n",
       "    </tr>\n",
       "    <tr>\n",
       "      <th>13</th>\n",
       "      <td>NaN</td>\n",
       "      <td>NaN</td>\n",
       "      <td>NaN</td>\n",
       "      <td>0.75</td>\n",
       "      <td>700</td>\n",
       "      <td>0.022078</td>\n",
       "      <td>0.995031</td>\n",
       "      <td>250.5160</td>\n",
       "      <td>12.766</td>\n",
       "      <td>0.200</td>\n",
       "      <td>NaN</td>\n",
       "      <td>NaN</td>\n",
       "      <td>NaN</td>\n",
       "      <td>NaN</td>\n",
       "      <td>NaN</td>\n",
       "    </tr>\n",
       "    <tr>\n",
       "      <th>14</th>\n",
       "      <td>0.0280</td>\n",
       "      <td>3.228671</td>\n",
       "      <td>2.000000e-07</td>\n",
       "      <td>0.86</td>\n",
       "      <td>800</td>\n",
       "      <td>NaN</td>\n",
       "      <td>NaN</td>\n",
       "      <td>NaN</td>\n",
       "      <td>NaN</td>\n",
       "      <td>NaN</td>\n",
       "      <td>NaN</td>\n",
       "      <td>NaN</td>\n",
       "      <td>NaN</td>\n",
       "      <td>NaN</td>\n",
       "      <td>NaN</td>\n",
       "    </tr>\n",
       "    <tr>\n",
       "      <th>15</th>\n",
       "      <td>NaN</td>\n",
       "      <td>NaN</td>\n",
       "      <td>NaN</td>\n",
       "      <td>0.86</td>\n",
       "      <td>800</td>\n",
       "      <td>0.017278</td>\n",
       "      <td>0.997509</td>\n",
       "      <td>261.3667</td>\n",
       "      <td>12.236</td>\n",
       "      <td>0.191</td>\n",
       "      <td>NaN</td>\n",
       "      <td>NaN</td>\n",
       "      <td>NaN</td>\n",
       "      <td>NaN</td>\n",
       "      <td>NaN</td>\n",
       "    </tr>\n",
       "    <tr>\n",
       "      <th>16</th>\n",
       "      <td>0.0219</td>\n",
       "      <td>0.123762</td>\n",
       "      <td>1.000000e-07</td>\n",
       "      <td>0.97</td>\n",
       "      <td>900</td>\n",
       "      <td>NaN</td>\n",
       "      <td>NaN</td>\n",
       "      <td>NaN</td>\n",
       "      <td>NaN</td>\n",
       "      <td>NaN</td>\n",
       "      <td>NaN</td>\n",
       "      <td>NaN</td>\n",
       "      <td>NaN</td>\n",
       "      <td>NaN</td>\n",
       "      <td>NaN</td>\n",
       "    </tr>\n",
       "    <tr>\n",
       "      <th>17</th>\n",
       "      <td>NaN</td>\n",
       "      <td>NaN</td>\n",
       "      <td>NaN</td>\n",
       "      <td>0.97</td>\n",
       "      <td>900</td>\n",
       "      <td>0.016069</td>\n",
       "      <td>0.997197</td>\n",
       "      <td>245.8278</td>\n",
       "      <td>13.009</td>\n",
       "      <td>0.203</td>\n",
       "      <td>NaN</td>\n",
       "      <td>NaN</td>\n",
       "      <td>NaN</td>\n",
       "      <td>NaN</td>\n",
       "      <td>NaN</td>\n",
       "    </tr>\n",
       "    <tr>\n",
       "      <th>18</th>\n",
       "      <td>0.0146</td>\n",
       "      <td>0.122838</td>\n",
       "      <td>0.000000e+00</td>\n",
       "      <td>1.07</td>\n",
       "      <td>1000</td>\n",
       "      <td>NaN</td>\n",
       "      <td>NaN</td>\n",
       "      <td>NaN</td>\n",
       "      <td>NaN</td>\n",
       "      <td>NaN</td>\n",
       "      <td>NaN</td>\n",
       "      <td>NaN</td>\n",
       "      <td>NaN</td>\n",
       "      <td>NaN</td>\n",
       "      <td>NaN</td>\n",
       "    </tr>\n",
       "    <tr>\n",
       "      <th>19</th>\n",
       "      <td>NaN</td>\n",
       "      <td>NaN</td>\n",
       "      <td>NaN</td>\n",
       "      <td>1.07</td>\n",
       "      <td>1000</td>\n",
       "      <td>0.015761</td>\n",
       "      <td>0.997197</td>\n",
       "      <td>229.5477</td>\n",
       "      <td>13.932</td>\n",
       "      <td>0.218</td>\n",
       "      <td>NaN</td>\n",
       "      <td>NaN</td>\n",
       "      <td>NaN</td>\n",
       "      <td>NaN</td>\n",
       "      <td>NaN</td>\n",
       "    </tr>\n",
       "    <tr>\n",
       "      <th>20</th>\n",
       "      <td>NaN</td>\n",
       "      <td>NaN</td>\n",
       "      <td>NaN</td>\n",
       "      <td>1.07</td>\n",
       "      <td>1000</td>\n",
       "      <td>NaN</td>\n",
       "      <td>NaN</td>\n",
       "      <td>NaN</td>\n",
       "      <td>NaN</td>\n",
       "      <td>NaN</td>\n",
       "      <td>3694.0704</td>\n",
       "      <td>2.166</td>\n",
       "      <td>0.271</td>\n",
       "      <td>1.206677e+16</td>\n",
       "      <td>0.123761</td>\n",
       "    </tr>\n",
       "  </tbody>\n",
       "</table>\n",
       "</div>"
      ],
      "text/plain": [
       "      loss  grad_norm  learning_rate  epoch  step  eval_loss  eval_f1_score  \\\n",
       "0   0.5682   3.946456   9.000000e-07   0.11   100        NaN            NaN   \n",
       "1      NaN        NaN            NaN   0.11   100   0.439688       0.950621   \n",
       "2   0.3111   3.889084   8.000000e-07   0.21   200        NaN            NaN   \n",
       "3      NaN        NaN            NaN   0.21   200   0.203191       0.974051   \n",
       "4   0.1457   6.986619   7.000000e-07   0.32   300        NaN            NaN   \n",
       "5      NaN        NaN            NaN   0.32   300   0.091784       0.987914   \n",
       "6   0.0632   0.435500   6.000000e-07   0.43   400        NaN            NaN   \n",
       "7      NaN        NaN            NaN   0.43   400   0.047770       0.991930   \n",
       "8   0.0450  18.512058   5.000000e-07   0.54   500        NaN            NaN   \n",
       "9      NaN        NaN            NaN   0.54   500   0.031799       0.994098   \n",
       "10  0.0209   0.951029   4.000000e-07   0.64   600        NaN            NaN   \n",
       "11     NaN        NaN            NaN   0.64   600   0.023719       0.995949   \n",
       "12  0.0191   0.159969   3.000000e-07   0.75   700        NaN            NaN   \n",
       "13     NaN        NaN            NaN   0.75   700   0.022078       0.995031   \n",
       "14  0.0280   3.228671   2.000000e-07   0.86   800        NaN            NaN   \n",
       "15     NaN        NaN            NaN   0.86   800   0.017278       0.997509   \n",
       "16  0.0219   0.123762   1.000000e-07   0.97   900        NaN            NaN   \n",
       "17     NaN        NaN            NaN   0.97   900   0.016069       0.997197   \n",
       "18  0.0146   0.122838   0.000000e+00   1.07  1000        NaN            NaN   \n",
       "19     NaN        NaN            NaN   1.07  1000   0.015761       0.997197   \n",
       "20     NaN        NaN            NaN   1.07  1000        NaN            NaN   \n",
       "\n",
       "    eval_runtime  eval_samples_per_second  eval_steps_per_second  \\\n",
       "0            NaN                      NaN                    NaN   \n",
       "1       255.1459                   12.534                  0.196   \n",
       "2            NaN                      NaN                    NaN   \n",
       "3       259.0427                   12.345                  0.193   \n",
       "4            NaN                      NaN                    NaN   \n",
       "5       254.5479                   12.563                  0.196   \n",
       "6            NaN                      NaN                    NaN   \n",
       "7       241.6935                   13.232                  0.207   \n",
       "8            NaN                      NaN                    NaN   \n",
       "9       238.8661                   13.388                  0.209   \n",
       "10           NaN                      NaN                    NaN   \n",
       "11      248.9386                   12.847                  0.201   \n",
       "12           NaN                      NaN                    NaN   \n",
       "13      250.5160                   12.766                  0.200   \n",
       "14           NaN                      NaN                    NaN   \n",
       "15      261.3667                   12.236                  0.191   \n",
       "16           NaN                      NaN                    NaN   \n",
       "17      245.8278                   13.009                  0.203   \n",
       "18           NaN                      NaN                    NaN   \n",
       "19      229.5477                   13.932                  0.218   \n",
       "20           NaN                      NaN                    NaN   \n",
       "\n",
       "    train_runtime  train_samples_per_second  train_steps_per_second  \\\n",
       "0             NaN                       NaN                     NaN   \n",
       "1             NaN                       NaN                     NaN   \n",
       "2             NaN                       NaN                     NaN   \n",
       "3             NaN                       NaN                     NaN   \n",
       "4             NaN                       NaN                     NaN   \n",
       "5             NaN                       NaN                     NaN   \n",
       "6             NaN                       NaN                     NaN   \n",
       "7             NaN                       NaN                     NaN   \n",
       "8             NaN                       NaN                     NaN   \n",
       "9             NaN                       NaN                     NaN   \n",
       "10            NaN                       NaN                     NaN   \n",
       "11            NaN                       NaN                     NaN   \n",
       "12            NaN                       NaN                     NaN   \n",
       "13            NaN                       NaN                     NaN   \n",
       "14            NaN                       NaN                     NaN   \n",
       "15            NaN                       NaN                     NaN   \n",
       "16            NaN                       NaN                     NaN   \n",
       "17            NaN                       NaN                     NaN   \n",
       "18            NaN                       NaN                     NaN   \n",
       "19            NaN                       NaN                     NaN   \n",
       "20      3694.0704                     2.166                   0.271   \n",
       "\n",
       "      total_flos  train_loss  \n",
       "0            NaN         NaN  \n",
       "1            NaN         NaN  \n",
       "2            NaN         NaN  \n",
       "3            NaN         NaN  \n",
       "4            NaN         NaN  \n",
       "5            NaN         NaN  \n",
       "6            NaN         NaN  \n",
       "7            NaN         NaN  \n",
       "8            NaN         NaN  \n",
       "9            NaN         NaN  \n",
       "10           NaN         NaN  \n",
       "11           NaN         NaN  \n",
       "12           NaN         NaN  \n",
       "13           NaN         NaN  \n",
       "14           NaN         NaN  \n",
       "15           NaN         NaN  \n",
       "16           NaN         NaN  \n",
       "17           NaN         NaN  \n",
       "18           NaN         NaN  \n",
       "19           NaN         NaN  \n",
       "20  1.206677e+16    0.123761  "
      ]
     },
     "execution_count": 40,
     "metadata": {},
     "output_type": "execute_result"
    }
   ],
   "source": [
    "import pandas as pd\n",
    "pd.DataFrame(trainer.state.log_history)"
   ]
  },
  {
   "cell_type": "markdown",
   "id": "8bd3cd60-132a-4489-b405-06a4db5f80c5",
   "metadata": {},
   "source": [
    "# spurious arrays"
   ]
  },
  {
   "cell_type": "code",
   "execution_count": 41,
   "id": "b6b6105d-887b-4019-87fe-de1e16e199d6",
   "metadata": {
    "tags": []
   },
   "outputs": [
    {
     "data": {
      "application/vnd.jupyter.widget-view+json": {
       "model_id": "820f5a27735f49d7ba80999a5acb61d0",
       "version_major": 2,
       "version_minor": 0
      },
      "text/plain": [
       "Generating train split: 0 examples [00:00, ? examples/s]"
      ]
     },
     "metadata": {},
     "output_type": "display_data"
    }
   ],
   "source": [
    "b_dataset = load_dataset('csv', data_files=\"00.test/spurious.array.166.csv\",split=\"train\")"
   ]
  },
  {
   "cell_type": "code",
   "execution_count": 42,
   "id": "5403c640-9aab-4ff7-9ad7-30d0d5d89642",
   "metadata": {
    "tags": []
   },
   "outputs": [
    {
     "data": {
      "text/plain": [
       "['TTATCCCCGCACGCGCGGGGCTGGTCCCACGATGCCGCGCTCGACGAACACCTCGTTCCCGTCGTCCCCGCGTACGCGGGGCTGGTCCCTCGGCCAGCACCCGGCGGAGGTTCCGGATACTGTCGTCCCCACGTACGCGGGGCTGGTCCGATCGATTCGCTGAGGACCTCCGGCAGCACGATGTCGTCCCCGCGCACCTGGGGCTGGTCCGGTGAAGGGCCTCTCCCCGGCCGGGCAGCGGTAGTCGTCCCCGCGTACGCGGGGCTGGTCCCCACACCGGCAAGCCCGAGGCGATCCTCACGCAGTCGTCCCTGCGTTCGCGGGGCTGGTCCCGACACGACGGCGAGCCGGTCGTCGCGTTCCTTGTCGTCCCCGCGTACGCGGGGCTCCTCC',\n",
       " 'TTCTCAGCCGCACACCTGGCGGCACACCACCGGGGGCTGGCGGCCCCCAAAACTTCTCAGCCGCGCACCTGGCGGCACACCCCTAGCTCATCCCCTTCCGGGCCCTCTGCGTCTTCTCAGCCGCGCGTGTGGCGGCATACTGCGCAGTCAGGGCATCTGCAACTTGCGCGATCTTCTCAGCCGCGCGTGTGGCGGCATACCGCTGATCATCTTGGTAGACCGCGACATATCACTTCTCAGCCGCGCGTGTGGCGGCATACCGC']"
      ]
     },
     "execution_count": 42,
     "metadata": {},
     "output_type": "execute_result"
    }
   ],
   "source": [
    "b_dataset['sequences'][:2]"
   ]
  },
  {
   "cell_type": "code",
   "execution_count": 43,
   "id": "087dae01-f234-4336-93c8-a81f5722d897",
   "metadata": {
    "tags": []
   },
   "outputs": [
    {
     "data": {
      "text/plain": [
       "Dataset({\n",
       "    features: ['sequences', 'labels'],\n",
       "    num_rows: 414\n",
       "})"
      ]
     },
     "execution_count": 43,
     "metadata": {},
     "output_type": "execute_result"
    }
   ],
   "source": [
    "b_dataset"
   ]
  },
  {
   "cell_type": "code",
   "execution_count": 44,
   "id": "1e189914-0da7-412c-9749-1dc875e2e612",
   "metadata": {
    "tags": []
   },
   "outputs": [],
   "source": [
    "b_sequences = b_dataset['sequences']\n",
    "b_labels= b_dataset['labels']"
   ]
  },
  {
   "cell_type": "code",
   "execution_count": 45,
   "id": "e4755a2b-ad70-4133-b769-e4cc4c2848e6",
   "metadata": {
    "tags": []
   },
   "outputs": [],
   "source": [
    "ds_b = Dataset.from_dict({\"data\": b_sequences,'label':b_labels})"
   ]
  },
  {
   "cell_type": "code",
   "execution_count": 46,
   "id": "76287b70-c4c2-4b52-a04d-b4e5703dc087",
   "metadata": {
    "tags": []
   },
   "outputs": [
    {
     "data": {
      "text/plain": [
       "Dataset({\n",
       "    features: ['data', 'label'],\n",
       "    num_rows: 414\n",
       "})"
      ]
     },
     "execution_count": 46,
     "metadata": {},
     "output_type": "execute_result"
    }
   ],
   "source": [
    "ds_b"
   ]
  },
  {
   "cell_type": "code",
   "execution_count": 47,
   "id": "1e799bc1-f76f-4c69-a2f2-6bb471cd6057",
   "metadata": {
    "tags": []
   },
   "outputs": [
    {
     "data": {
      "application/vnd.jupyter.widget-view+json": {
       "model_id": "795c2cf56637487ba4e66ccb17106059",
       "version_major": 2,
       "version_minor": 0
      },
      "text/plain": [
       "Map:   0%|          | 0/414 [00:00<?, ? examples/s]"
      ]
     },
     "metadata": {},
     "output_type": "display_data"
    }
   ],
   "source": [
    "tokenized_datasets_b = ds_b.map(\n",
    "    tokenize_function,\n",
    "    batched=True,\n",
    "    remove_columns=[\"data\"],\n",
    ")"
   ]
  },
  {
   "cell_type": "code",
   "execution_count": 48,
   "id": "23ef0502-cd4c-44e7-827f-97b3568b834e",
   "metadata": {
    "tags": []
   },
   "outputs": [
    {
     "data": {
      "text/html": [],
      "text/plain": [
       "<IPython.core.display.HTML object>"
      ]
     },
     "metadata": {},
     "output_type": "display_data"
    },
    {
     "data": {
      "text/plain": [
       "{'test_loss': 4.201750755310059,\n",
       " 'test_f1_score': 0.0,\n",
       " 'test_runtime': 30.1907,\n",
       " 'test_samples_per_second': 13.713,\n",
       " 'test_steps_per_second': 0.232}"
      ]
     },
     "execution_count": 48,
     "metadata": {},
     "output_type": "execute_result"
    }
   ],
   "source": [
    "trainer.predict(tokenized_datasets_b).metrics"
   ]
  },
  {
   "cell_type": "code",
   "execution_count": 1,
   "id": "2be229f6-7f27-47bc-aece-a73c6383c532",
   "metadata": {
    "tags": []
   },
   "outputs": [],
   "source": [
    "#import torch, gc\n",
    "#gc.collect()\n",
    "#torch.cuda.empty_cache()"
   ]
  },
  {
   "cell_type": "code",
   "execution_count": 2,
   "id": "b310021c-fe72-45b2-8b21-9ecf5ad3fd6d",
   "metadata": {
    "tags": []
   },
   "outputs": [],
   "source": [
    "#del trainer"
   ]
  },
  {
   "cell_type": "markdown",
   "id": "4bd8a59e-28ab-4d4c-add6-0d59772b7670",
   "metadata": {
    "jp-MarkdownHeadingCollapsed": true,
    "tags": []
   },
   "source": [
    "# Discussion\n",
    "(1)It is very easy for the model to learn from CRISPR arrays and non-CRISPR arrays.\n",
    "\n",
    "(2)Batch size, the size of training dataset and validation dataset, and the learning late have a great impact on the model performances.\n",
    "\n",
    "(3)The model works well on the 1,000 bp and above length sequences.\n",
    "\n",
    "(4)But the model cannot correctly predict spurious CRISPR arrays (similar to the real CRISPR arrays but non-functional).\n",
    "\n",
    "(5)The results significantly depend on the input dataset."
   ]
  }
 ],
 "metadata": {
  "kernelspec": {
   "display_name": "my-python3-kernel",
   "language": "python",
   "name": "my-python3-kernel"
  },
  "language_info": {
   "codemirror_mode": {
    "name": "ipython",
    "version": 3
   },
   "file_extension": ".py",
   "mimetype": "text/x-python",
   "name": "python",
   "nbconvert_exporter": "python",
   "pygments_lexer": "ipython3",
   "version": "3.12.2"
  }
 },
 "nbformat": 4,
 "nbformat_minor": 5
}
